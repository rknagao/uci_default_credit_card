{
 "cells": [
  {
   "cell_type": "markdown",
   "metadata": {},
   "source": [
    "# Notebook 2: Modelling and Metrics"
   ]
  },
  {
   "cell_type": "code",
   "execution_count": 1,
   "metadata": {},
   "outputs": [],
   "source": [
    "from boruta import BorutaPy\n",
    "import numpy as np\n",
    "import pandas as pd\n",
    "from sklearn import metrics\n",
    "from sklearn.base import BaseEstimator, TransformerMixin\n",
    "from sklearn.ensemble import RandomForestClassifier, RandomForestRegressor\n",
    "from sklearn.feature_selection import RFE\n",
    "from sklearn.linear_model import LogisticRegression\n",
    "from sklearn.model_selection import StratifiedKFold, RandomizedSearchCV\n",
    "from sklearn.pipeline import Pipeline\n",
    "from sklearn.tree import DecisionTreeClassifier\n",
    "\n",
    "import seaborn as sns\n",
    "import matplotlib.pyplot as plt"
   ]
  },
  {
   "cell_type": "markdown",
   "metadata": {},
   "source": [
    "## Load"
   ]
  },
  {
   "cell_type": "code",
   "execution_count": 2,
   "metadata": {},
   "outputs": [
    {
     "name": "stdout",
     "output_type": "stream",
     "text": [
      "(23988, 38) (5998, 38) (23988, 1) (5998, 1)\n"
     ]
    }
   ],
   "source": [
    "# Loading train and test.\n",
    "X_train = pd.read_csv('data/X_train.csv').drop(columns='ID')\n",
    "X_test = pd.read_csv('data/X_test.csv').drop(columns='ID')\n",
    "y_train = pd.read_csv('data/y_train.csv')\n",
    "y_test = pd.read_csv('data/y_test.csv')\n",
    "\n",
    "print(X_train.shape, X_test.shape, y_train.shape, y_test.shape)"
   ]
  },
  {
   "cell_type": "code",
   "execution_count": 3,
   "metadata": {},
   "outputs": [],
   "source": [
    "# Reshape arrays into a flat format.\n",
    "y_train = np.ravel(y_train)\n",
    "y_test = np.ravel(y_test)"
   ]
  },
  {
   "cell_type": "code",
   "execution_count": 4,
   "metadata": {},
   "outputs": [
    {
     "data": {
      "text/plain": [
       "['LIMIT_BAL',\n",
       " 'SEX',\n",
       " 'EDUCATION',\n",
       " 'MARRIAGE',\n",
       " 'AGE',\n",
       " 'PAY_0',\n",
       " 'PAY_2',\n",
       " 'PAY_3',\n",
       " 'PAY_4',\n",
       " 'PAY_5',\n",
       " 'PAY_6',\n",
       " 'BILL_AMT1',\n",
       " 'BILL_AMT2',\n",
       " 'BILL_AMT3',\n",
       " 'BILL_AMT4',\n",
       " 'BILL_AMT5',\n",
       " 'BILL_AMT6',\n",
       " 'PAY_AMT1',\n",
       " 'PAY_AMT2',\n",
       " 'PAY_AMT3',\n",
       " 'PAY_AMT4',\n",
       " 'PAY_AMT5',\n",
       " 'PAY_AMT6']"
      ]
     },
     "execution_count": 4,
     "metadata": {},
     "output_type": "execute_result"
    }
   ],
   "source": [
    "# Import original features name.\n",
    "with open('data/original_features.txt') as f:\n",
    "    list_orig_feat = f.readlines()\n",
    "\n",
    "list_orig_feat = [i.strip() for i in list_orig_feat]\n",
    "list_orig_feat"
   ]
  },
  {
   "cell_type": "markdown",
   "metadata": {},
   "source": [
    "## Model"
   ]
  },
  {
   "cell_type": "markdown",
   "metadata": {},
   "source": [
    "### Validation"
   ]
  },
  {
   "cell_type": "code",
   "execution_count": 5,
   "metadata": {},
   "outputs": [
    {
     "data": {
      "text/html": [
       "<div>\n",
       "<style scoped>\n",
       "    .dataframe tbody tr th:only-of-type {\n",
       "        vertical-align: middle;\n",
       "    }\n",
       "\n",
       "    .dataframe tbody tr th {\n",
       "        vertical-align: top;\n",
       "    }\n",
       "\n",
       "    .dataframe thead th {\n",
       "        text-align: right;\n",
       "    }\n",
       "</style>\n",
       "<table border=\"1\" class=\"dataframe\">\n",
       "  <thead>\n",
       "    <tr style=\"text-align: right;\">\n",
       "      <th></th>\n",
       "      <th>algorithm</th>\n",
       "      <th>accuracy</th>\n",
       "      <th>recall</th>\n",
       "      <th>precision</th>\n",
       "      <th>f2score</th>\n",
       "      <th>roc_auc</th>\n",
       "    </tr>\n",
       "  </thead>\n",
       "  <tbody>\n",
       "  </tbody>\n",
       "</table>\n",
       "</div>"
      ],
      "text/plain": [
       "Empty DataFrame\n",
       "Columns: [algorithm, accuracy, recall, precision, f2score, roc_auc]\n",
       "Index: []"
      ]
     },
     "execution_count": 5,
     "metadata": {},
     "output_type": "execute_result"
    }
   ],
   "source": [
    "# Create a dataframe that will hold all experiments details and scores.\n",
    "df_metric = pd.DataFrame(columns=['algorithm', 'accuracy', 'recall', 'precision', 'f2score', 'roc_auc'])\n",
    "df_metric"
   ]
  },
  {
   "cell_type": "code",
   "execution_count": 6,
   "metadata": {},
   "outputs": [],
   "source": [
    "def optimal_threshold(y_true, y_pred_proba):\n",
    "    '''Find the threshold that approximates TPR and FPR.\n",
    "    Previous experiments:\n",
    "    - TPR == FPR: fail (converge could happen anywhere, not necessarily at optimal threshold)\n",
    "    - max f2score: fail (unnecessary increased of False Positive)\n",
    "    - max(TPR - FPR): success (it b)\n",
    "    '''\n",
    "    fpr, tpr, thresholds = metrics.roc_curve(y_true, y_pred_proba)\n",
    "\n",
    "    df = pd.DataFrame({\n",
    "        'tpr': tpr,\n",
    "        'fpr': fpr,\n",
    "        'threshold': thresholds\n",
    "    })\n",
    "    df['fx'] = df['tpr'] - df['fpr']\n",
    "    best_threshold = df.loc[df['fx'] == df['fx'].max(), 'threshold'].values[0]\n",
    "    return best_threshold"
   ]
  },
  {
   "cell_type": "code",
   "execution_count": 7,
   "metadata": {},
   "outputs": [],
   "source": [
    "class FeatureSelection(BaseEstimator, TransformerMixin):\n",
    "    \n",
    "    def __init__(self, max_iter, estimator):\n",
    "        '''Perform feature selection inside each fold.\n",
    "        Insights: https://insightsimaging.springeropen.com/articles/10.1186/s13244-021-01115-1\n",
    "        '''\n",
    "        self.max_iter=max_iter\n",
    "        self.estimator=estimator\n",
    "\n",
    "    def fit(self, X, y):\n",
    "        # Since RandomizedSearchCV uses only 'fit' and no 'transform', this method will also use only 'fit'.\n",
    "        self.list_feat = list(X.columns)\n",
    "        boruta = BorutaPy(\n",
    "            estimator=self.estimator,\n",
    "            n_estimators='auto',\n",
    "            max_iter=self.max_iter\n",
    "            )\n",
    "        boruta.fit(np.array(X), np.array(y))\n",
    "        self.boruta = boruta\n",
    "        \n",
    "        feat_selection = [i for i, j in zip(self.list_feat, self.boruta.support_) if j == True]  \n",
    "        self.feat_selection = feat_selection\n",
    "        return self\n",
    "\n",
    "    def transform(self, X):\n",
    "        return X[self.feat_selection]\n",
    "\n",
    "\n",
    "# Check\n",
    "#check = FeatureSelection(max_iter=10, estimator=RandomForestClassifier(max_depth=5, random_state=52, n_estimators=100))\n",
    "#check.fit(X_train, y_train)"
   ]
  },
  {
   "cell_type": "code",
   "execution_count": 8,
   "metadata": {},
   "outputs": [
    {
     "data": {
      "text/plain": [
       "\"\\n#(testing)\\nmodel = LogisticRegression(random_state=52)\\nparams_dim = {\\n    'max_iter':[300, 400, 500],\\n    'solver':['liblinear', 'saga'],\\n    'penalty': ['l1', 'l2']\\n}\\n\\ncheck = pipeline_train_model(X_train, y_train, k=3, feat_selection_iter=10, random_search_iter=10, model=model, params_dim=params_dim)\\n\""
      ]
     },
     "execution_count": 8,
     "metadata": {},
     "output_type": "execute_result"
    }
   ],
   "source": [
    "# Create nested stratified cross validation with hyperparameter optimization process:\n",
    "def pipeline_train_model(X, y, k, feat_selection_iter, random_search_iter, model, params_dim):\n",
    "\n",
    "    list_acc = []\n",
    "    list_rec = []\n",
    "    list_prec = []\n",
    "    list_f2 = []\n",
    "    list_roc_auc = []\n",
    "\n",
    "    # Outer cross validation.\n",
    "    kfold = StratifiedKFold(n_splits=k, shuffle=True, random_state=52)\n",
    "    for train_index, validation_index in kfold.split(X, y):\n",
    "        \n",
    "        X_train = X.loc[train_index]\n",
    "        X_valid = X.loc[validation_index]\n",
    "        y_train = y[train_index]\n",
    "        y_valid = y[validation_index]\n",
    "        \n",
    "        # Inner cross validation encapsulated in pipeline.\n",
    "        feature_selection = FeatureSelection(max_iter=feat_selection_iter, estimator=RandomForestClassifier(max_depth=5, random_state=52, n_estimators=100))\n",
    "        cv = RandomizedSearchCV(estimator=model,\n",
    "                                param_distributions=params_dim,\n",
    "                                cv=3,\n",
    "                                n_iter=random_search_iter,\n",
    "                                random_state=52)\n",
    "\n",
    "        pipe = Pipeline(\n",
    "            [\n",
    "                ('feature_selection', feature_selection),\n",
    "                ('cv', cv)\n",
    "            ]\n",
    "        )\n",
    "        pipe.fit(X_train, y_train)              \n",
    "        best_params = pipe['cv'].best_params_\n",
    "        best_feat = pipe['feature_selection'].feat_selection\n",
    "        \n",
    "        # Train and validate model.\n",
    "        model.set_params(**best_params)\n",
    "        model.fit(X_train[best_feat], y_train)\n",
    "        y_pred_proba = model.predict_proba(X_valid[best_feat])[:, 1]\n",
    "        \n",
    "        # Classify the probability conditional to train sample %credit default.\n",
    "        best_threshold = optimal_threshold(y_valid, y_pred_proba)\n",
    "        y_pred = [1 if i >= best_threshold else 0 for i in y_pred_proba]\n",
    "\n",
    "        list_acc.append(metrics.accuracy_score(y_valid, y_pred))\n",
    "        list_rec.append(metrics.recall_score(y_valid, y_pred))\n",
    "        list_prec.append(metrics.precision_score(y_valid, y_pred))\n",
    "        list_f2.append(metrics.fbeta_score(y_valid, y_pred, beta=2))\n",
    "        list_roc_auc.append(metrics.roc_auc_score(y_valid, y_pred_proba))\n",
    "        \n",
    "    # Calculate average for every metric.\n",
    "    avg_acc = np.mean(list_acc)\n",
    "    avg_rec = np.mean(list_rec)\n",
    "    avg_prec = np.mean(list_prec)\n",
    "    avg_f2 = np.mean(list_f2)\n",
    "    avg_roc_auc = np.mean(list_roc_auc)\n",
    "\n",
    "    return [avg_acc, avg_rec, avg_prec, avg_f2, avg_roc_auc]\n",
    "\n",
    "'''\n",
    "#(testing)\n",
    "model = LogisticRegression(random_state=52)\n",
    "params_dim = {\n",
    "    'max_iter':[300, 400, 500],\n",
    "    'solver':['liblinear', 'saga'],\n",
    "    'penalty': ['l1', 'l2']\n",
    "}\n",
    "\n",
    "check = pipeline_train_model(X_train, y_train, k=3, feat_selection_iter=10, random_search_iter=10, model=model, params_dim=params_dim)\n",
    "'''"
   ]
  },
  {
   "cell_type": "markdown",
   "metadata": {},
   "source": [
    "### M1: Baseline"
   ]
  },
  {
   "cell_type": "code",
   "execution_count": 9,
   "metadata": {},
   "outputs": [
    {
     "name": "stdout",
     "output_type": "stream",
     "text": [
      "Training sample default%: 0.2213189928297482\n",
      "Predicted sample default%: 0.2221110555277639\n"
     ]
    }
   ],
   "source": [
    "# Each row prediction is based on training dataset %default: 1 (default) or 0 (non-default).\n",
    "m1_target_prob = np.unique(y_train, return_counts=True)[1][1] / len(y_train)\n",
    "print(f\"Training sample default%: {m1_target_prob}\")\n",
    "\n",
    "y_pred_m1 = np.random.uniform(0, 1, len(y_train))\n",
    "y_pred_m1 = [1 if i >= m1_target_prob else 0 for i in y_pred_m1]\n",
    "\n",
    "print(f\"Predicted sample default%: {np.unique(y_pred_m1, return_counts=True)[1][0] / len(y_pred_m1)}\")"
   ]
  },
  {
   "cell_type": "code",
   "execution_count": 15,
   "metadata": {},
   "outputs": [
    {
     "data": {
      "text/html": [
       "<div>\n",
       "<style scoped>\n",
       "    .dataframe tbody tr th:only-of-type {\n",
       "        vertical-align: middle;\n",
       "    }\n",
       "\n",
       "    .dataframe tbody tr th {\n",
       "        vertical-align: top;\n",
       "    }\n",
       "\n",
       "    .dataframe thead th {\n",
       "        text-align: right;\n",
       "    }\n",
       "</style>\n",
       "<table border=\"1\" class=\"dataframe\">\n",
       "  <thead>\n",
       "    <tr style=\"text-align: right;\">\n",
       "      <th></th>\n",
       "      <th>algorithm</th>\n",
       "      <th>accuracy</th>\n",
       "      <th>recall</th>\n",
       "      <th>precision</th>\n",
       "      <th>f2score</th>\n",
       "      <th>roc_auc</th>\n",
       "    </tr>\n",
       "  </thead>\n",
       "  <tbody>\n",
       "    <tr>\n",
       "      <th>m1_baseline</th>\n",
       "      <td>probability_in_sample</td>\n",
       "      <td>0.346131</td>\n",
       "      <td>0.780185</td>\n",
       "      <td>0.221972</td>\n",
       "      <td>0.519100</td>\n",
       "      <td>NaN</td>\n",
       "    </tr>\n",
       "    <tr>\n",
       "      <th>m2_logregression</th>\n",
       "      <td>LogisticRegression</td>\n",
       "      <td>0.749750</td>\n",
       "      <td>0.615751</td>\n",
       "      <td>0.453154</td>\n",
       "      <td>0.573856</td>\n",
       "      <td>0.749058</td>\n",
       "    </tr>\n",
       "    <tr>\n",
       "      <th>m3_decisiontree</th>\n",
       "      <td>DecisionTree</td>\n",
       "      <td>0.771969</td>\n",
       "      <td>0.572225</td>\n",
       "      <td>0.492438</td>\n",
       "      <td>0.552066</td>\n",
       "      <td>0.757373</td>\n",
       "    </tr>\n",
       "    <tr>\n",
       "      <th>m4_randomforest</th>\n",
       "      <td>RandomForestClassifier</td>\n",
       "      <td>0.764132</td>\n",
       "      <td>0.617635</td>\n",
       "      <td>0.477426</td>\n",
       "      <td>0.582166</td>\n",
       "      <td>0.779022</td>\n",
       "    </tr>\n",
       "  </tbody>\n",
       "</table>\n",
       "</div>"
      ],
      "text/plain": [
       "                               algorithm  accuracy    recall  precision  \\\n",
       "m1_baseline        probability_in_sample  0.346131  0.780185   0.221972   \n",
       "m2_logregression      LogisticRegression  0.749750  0.615751   0.453154   \n",
       "m3_decisiontree             DecisionTree  0.771969  0.572225   0.492438   \n",
       "m4_randomforest   RandomForestClassifier  0.764132  0.617635   0.477426   \n",
       "\n",
       "                   f2score   roc_auc  \n",
       "m1_baseline       0.519100       NaN  \n",
       "m2_logregression  0.573856  0.749058  \n",
       "m3_decisiontree   0.552066  0.757373  \n",
       "m4_randomforest   0.582166  0.779022  "
      ]
     },
     "execution_count": 15,
     "metadata": {},
     "output_type": "execute_result"
    }
   ],
   "source": [
    "# Saving results in df_metric.\n",
    "df_metric.loc['m1_baseline'] = ['probability_in_sample',\n",
    "                                metrics.accuracy_score(y_train, y_pred_m1),\n",
    "                                metrics.recall_score(y_train, y_pred_m1),\n",
    "                                metrics.precision_score(y_train, y_pred_m1),\n",
    "                                metrics.fbeta_score(y_train, y_pred_m1, beta=2),\n",
    "                                None]\n",
    "\n",
    "df_metric"
   ]
  },
  {
   "cell_type": "markdown",
   "metadata": {},
   "source": [
    "### M2: Log Regression"
   ]
  },
  {
   "cell_type": "code",
   "execution_count": 11,
   "metadata": {},
   "outputs": [
    {
     "name": "stderr",
     "output_type": "stream",
     "text": [
      "c:\\Users\\Rafael\\AppData\\Local\\Programs\\Python\\Python311\\Lib\\site-packages\\sklearn\\linear_model\\_sag.py:350: ConvergenceWarning: The max_iter was reached which means the coef_ did not converge\n",
      "  warnings.warn(\n",
      "c:\\Users\\Rafael\\AppData\\Local\\Programs\\Python\\Python311\\Lib\\site-packages\\sklearn\\linear_model\\_sag.py:350: ConvergenceWarning: The max_iter was reached which means the coef_ did not converge\n",
      "  warnings.warn(\n",
      "c:\\Users\\Rafael\\AppData\\Local\\Programs\\Python\\Python311\\Lib\\site-packages\\sklearn\\linear_model\\_sag.py:350: ConvergenceWarning: The max_iter was reached which means the coef_ did not converge\n",
      "  warnings.warn(\n",
      "c:\\Users\\Rafael\\AppData\\Local\\Programs\\Python\\Python311\\Lib\\site-packages\\sklearn\\linear_model\\_sag.py:350: ConvergenceWarning: The max_iter was reached which means the coef_ did not converge\n",
      "  warnings.warn(\n",
      "c:\\Users\\Rafael\\AppData\\Local\\Programs\\Python\\Python311\\Lib\\site-packages\\sklearn\\linear_model\\_sag.py:350: ConvergenceWarning: The max_iter was reached which means the coef_ did not converge\n",
      "  warnings.warn(\n",
      "c:\\Users\\Rafael\\AppData\\Local\\Programs\\Python\\Python311\\Lib\\site-packages\\sklearn\\linear_model\\_sag.py:350: ConvergenceWarning: The max_iter was reached which means the coef_ did not converge\n",
      "  warnings.warn(\n",
      "c:\\Users\\Rafael\\AppData\\Local\\Programs\\Python\\Python311\\Lib\\site-packages\\sklearn\\linear_model\\_sag.py:350: ConvergenceWarning: The max_iter was reached which means the coef_ did not converge\n",
      "  warnings.warn(\n",
      "c:\\Users\\Rafael\\AppData\\Local\\Programs\\Python\\Python311\\Lib\\site-packages\\sklearn\\linear_model\\_sag.py:350: ConvergenceWarning: The max_iter was reached which means the coef_ did not converge\n",
      "  warnings.warn(\n",
      "c:\\Users\\Rafael\\AppData\\Local\\Programs\\Python\\Python311\\Lib\\site-packages\\sklearn\\linear_model\\_sag.py:350: ConvergenceWarning: The max_iter was reached which means the coef_ did not converge\n",
      "  warnings.warn(\n",
      "c:\\Users\\Rafael\\AppData\\Local\\Programs\\Python\\Python311\\Lib\\site-packages\\sklearn\\linear_model\\_sag.py:350: ConvergenceWarning: The max_iter was reached which means the coef_ did not converge\n",
      "  warnings.warn(\n",
      "c:\\Users\\Rafael\\AppData\\Local\\Programs\\Python\\Python311\\Lib\\site-packages\\sklearn\\linear_model\\_sag.py:350: ConvergenceWarning: The max_iter was reached which means the coef_ did not converge\n",
      "  warnings.warn(\n",
      "c:\\Users\\Rafael\\AppData\\Local\\Programs\\Python\\Python311\\Lib\\site-packages\\sklearn\\linear_model\\_sag.py:350: ConvergenceWarning: The max_iter was reached which means the coef_ did not converge\n",
      "  warnings.warn(\n",
      "c:\\Users\\Rafael\\AppData\\Local\\Programs\\Python\\Python311\\Lib\\site-packages\\sklearn\\linear_model\\_sag.py:350: ConvergenceWarning: The max_iter was reached which means the coef_ did not converge\n",
      "  warnings.warn(\n",
      "c:\\Users\\Rafael\\AppData\\Local\\Programs\\Python\\Python311\\Lib\\site-packages\\sklearn\\linear_model\\_sag.py:350: ConvergenceWarning: The max_iter was reached which means the coef_ did not converge\n",
      "  warnings.warn(\n"
     ]
    },
    {
     "data": {
      "text/html": [
       "<div>\n",
       "<style scoped>\n",
       "    .dataframe tbody tr th:only-of-type {\n",
       "        vertical-align: middle;\n",
       "    }\n",
       "\n",
       "    .dataframe tbody tr th {\n",
       "        vertical-align: top;\n",
       "    }\n",
       "\n",
       "    .dataframe thead th {\n",
       "        text-align: right;\n",
       "    }\n",
       "</style>\n",
       "<table border=\"1\" class=\"dataframe\">\n",
       "  <thead>\n",
       "    <tr style=\"text-align: right;\">\n",
       "      <th></th>\n",
       "      <th>algorithm</th>\n",
       "      <th>accuracy</th>\n",
       "      <th>recall</th>\n",
       "      <th>precision</th>\n",
       "      <th>f2score</th>\n",
       "      <th>roc_auc</th>\n",
       "    </tr>\n",
       "  </thead>\n",
       "  <tbody>\n",
       "    <tr>\n",
       "      <th>m1_baseline</th>\n",
       "      <td>NaN</td>\n",
       "      <td>0.346131</td>\n",
       "      <td>0.780185</td>\n",
       "      <td>0.221972</td>\n",
       "      <td>0.519100</td>\n",
       "      <td>NaN</td>\n",
       "    </tr>\n",
       "    <tr>\n",
       "      <th>m2_logregression</th>\n",
       "      <td>LogisticRegression</td>\n",
       "      <td>0.749750</td>\n",
       "      <td>0.615751</td>\n",
       "      <td>0.453154</td>\n",
       "      <td>0.573856</td>\n",
       "      <td>0.749058</td>\n",
       "    </tr>\n",
       "  </tbody>\n",
       "</table>\n",
       "</div>"
      ],
      "text/plain": [
       "                           algorithm  accuracy    recall  precision   f2score  \\\n",
       "m1_baseline                      NaN  0.346131  0.780185   0.221972  0.519100   \n",
       "m2_logregression  LogisticRegression  0.749750  0.615751   0.453154  0.573856   \n",
       "\n",
       "                   roc_auc  \n",
       "m1_baseline            NaN  \n",
       "m2_logregression  0.749058  "
      ]
     },
     "execution_count": 11,
     "metadata": {},
     "output_type": "execute_result"
    }
   ],
   "source": [
    "# Log Regression with full features.\n",
    "model = LogisticRegression(random_state=52)\n",
    "params_dim = {\n",
    "    'max_iter':[300, 400, 500],\n",
    "    'solver':['liblinear', 'saga'],\n",
    "    'penalty': ['l1', 'l2']\n",
    "}\n",
    "\n",
    "score = pipeline_train_model(X_train, y_train, k=3, feat_selection_iter=10, random_search_iter=10, model=model, params_dim=params_dim)\n",
    "\n",
    "# Saving results in df_metric.\n",
    "df_metric.loc['m2_logregression'] = ['LogisticRegression', score[0], score[1], score[2], score[3], score[4]]\n",
    "df_metric"
   ]
  },
  {
   "cell_type": "markdown",
   "metadata": {},
   "source": [
    "### M3: Decision Tree Classifier"
   ]
  },
  {
   "cell_type": "code",
   "execution_count": 12,
   "metadata": {},
   "outputs": [
    {
     "data": {
      "text/html": [
       "<div>\n",
       "<style scoped>\n",
       "    .dataframe tbody tr th:only-of-type {\n",
       "        vertical-align: middle;\n",
       "    }\n",
       "\n",
       "    .dataframe tbody tr th {\n",
       "        vertical-align: top;\n",
       "    }\n",
       "\n",
       "    .dataframe thead th {\n",
       "        text-align: right;\n",
       "    }\n",
       "</style>\n",
       "<table border=\"1\" class=\"dataframe\">\n",
       "  <thead>\n",
       "    <tr style=\"text-align: right;\">\n",
       "      <th></th>\n",
       "      <th>algorithm</th>\n",
       "      <th>accuracy</th>\n",
       "      <th>recall</th>\n",
       "      <th>precision</th>\n",
       "      <th>f2score</th>\n",
       "      <th>roc_auc</th>\n",
       "    </tr>\n",
       "  </thead>\n",
       "  <tbody>\n",
       "    <tr>\n",
       "      <th>m1_baseline</th>\n",
       "      <td>NaN</td>\n",
       "      <td>0.346131</td>\n",
       "      <td>0.780185</td>\n",
       "      <td>0.221972</td>\n",
       "      <td>0.519100</td>\n",
       "      <td>NaN</td>\n",
       "    </tr>\n",
       "    <tr>\n",
       "      <th>m2_logregression</th>\n",
       "      <td>LogisticRegression</td>\n",
       "      <td>0.749750</td>\n",
       "      <td>0.615751</td>\n",
       "      <td>0.453154</td>\n",
       "      <td>0.573856</td>\n",
       "      <td>0.749058</td>\n",
       "    </tr>\n",
       "    <tr>\n",
       "      <th>m3_decisiontree</th>\n",
       "      <td>DecisionTree</td>\n",
       "      <td>0.771969</td>\n",
       "      <td>0.572225</td>\n",
       "      <td>0.492438</td>\n",
       "      <td>0.552066</td>\n",
       "      <td>0.757373</td>\n",
       "    </tr>\n",
       "  </tbody>\n",
       "</table>\n",
       "</div>"
      ],
      "text/plain": [
       "                           algorithm  accuracy    recall  precision   f2score  \\\n",
       "m1_baseline                      NaN  0.346131  0.780185   0.221972  0.519100   \n",
       "m2_logregression  LogisticRegression  0.749750  0.615751   0.453154  0.573856   \n",
       "m3_decisiontree         DecisionTree  0.771969  0.572225   0.492438  0.552066   \n",
       "\n",
       "                   roc_auc  \n",
       "m1_baseline            NaN  \n",
       "m2_logregression  0.749058  \n",
       "m3_decisiontree   0.757373  "
      ]
     },
     "execution_count": 12,
     "metadata": {},
     "output_type": "execute_result"
    }
   ],
   "source": [
    "# Single decision tree classifier.\n",
    "model = DecisionTreeClassifier(random_state=52)\n",
    "params_dim = {\n",
    "    'criterion': ['gini', 'entropy', 'log_loss'],\n",
    "    'max_depth': [5, 15, 30, 200],\n",
    "    'min_samples_split': [2, 50, 100, 200],\n",
    "    'min_samples_leaf': [1, 50, 100, 200]\n",
    "}\n",
    "\n",
    "score = pipeline_train_model(X_train, y_train, k=3, feat_selection_iter=10, random_search_iter=10, model=model, params_dim=params_dim)\n",
    "\n",
    "# Saving results in df_metric.\n",
    "df_metric.loc['m3_decisiontree'] = ['DecisionTree', score[0], score[1], score[2], score[3], score[4]]\n",
    "df_metric"
   ]
  },
  {
   "cell_type": "markdown",
   "metadata": {},
   "source": [
    "### M4: Random Forest Classifier"
   ]
  },
  {
   "cell_type": "code",
   "execution_count": 13,
   "metadata": {},
   "outputs": [
    {
     "data": {
      "text/html": [
       "<div>\n",
       "<style scoped>\n",
       "    .dataframe tbody tr th:only-of-type {\n",
       "        vertical-align: middle;\n",
       "    }\n",
       "\n",
       "    .dataframe tbody tr th {\n",
       "        vertical-align: top;\n",
       "    }\n",
       "\n",
       "    .dataframe thead th {\n",
       "        text-align: right;\n",
       "    }\n",
       "</style>\n",
       "<table border=\"1\" class=\"dataframe\">\n",
       "  <thead>\n",
       "    <tr style=\"text-align: right;\">\n",
       "      <th></th>\n",
       "      <th>algorithm</th>\n",
       "      <th>accuracy</th>\n",
       "      <th>recall</th>\n",
       "      <th>precision</th>\n",
       "      <th>f2score</th>\n",
       "      <th>roc_auc</th>\n",
       "    </tr>\n",
       "  </thead>\n",
       "  <tbody>\n",
       "    <tr>\n",
       "      <th>m1_baseline</th>\n",
       "      <td>NaN</td>\n",
       "      <td>0.346131</td>\n",
       "      <td>0.780185</td>\n",
       "      <td>0.221972</td>\n",
       "      <td>0.519100</td>\n",
       "      <td>NaN</td>\n",
       "    </tr>\n",
       "    <tr>\n",
       "      <th>m2_logregression</th>\n",
       "      <td>LogisticRegression</td>\n",
       "      <td>0.749750</td>\n",
       "      <td>0.615751</td>\n",
       "      <td>0.453154</td>\n",
       "      <td>0.573856</td>\n",
       "      <td>0.749058</td>\n",
       "    </tr>\n",
       "    <tr>\n",
       "      <th>m3_decisiontree</th>\n",
       "      <td>DecisionTree</td>\n",
       "      <td>0.771969</td>\n",
       "      <td>0.572225</td>\n",
       "      <td>0.492438</td>\n",
       "      <td>0.552066</td>\n",
       "      <td>0.757373</td>\n",
       "    </tr>\n",
       "    <tr>\n",
       "      <th>m4_randomforest</th>\n",
       "      <td>RandomForestClassifier</td>\n",
       "      <td>0.764132</td>\n",
       "      <td>0.617635</td>\n",
       "      <td>0.477426</td>\n",
       "      <td>0.582166</td>\n",
       "      <td>0.779022</td>\n",
       "    </tr>\n",
       "  </tbody>\n",
       "</table>\n",
       "</div>"
      ],
      "text/plain": [
       "                               algorithm  accuracy    recall  precision  \\\n",
       "m1_baseline                          NaN  0.346131  0.780185   0.221972   \n",
       "m2_logregression      LogisticRegression  0.749750  0.615751   0.453154   \n",
       "m3_decisiontree             DecisionTree  0.771969  0.572225   0.492438   \n",
       "m4_randomforest   RandomForestClassifier  0.764132  0.617635   0.477426   \n",
       "\n",
       "                   f2score   roc_auc  \n",
       "m1_baseline       0.519100       NaN  \n",
       "m2_logregression  0.573856  0.749058  \n",
       "m3_decisiontree   0.552066  0.757373  \n",
       "m4_randomforest   0.582166  0.779022  "
      ]
     },
     "execution_count": 13,
     "metadata": {},
     "output_type": "execute_result"
    }
   ],
   "source": [
    "# Single decision tree classifier.\n",
    "model = RandomForestClassifier(random_state=52)\n",
    "params_dim = {\n",
    "    'n_estimators': [100, 250, 500],\n",
    "    'criterion': ['gini', 'entropy', 'log_loss'],\n",
    "    'max_depth': [5, 15, 30],\n",
    "    'min_samples_split': [2, 50, 100, 200],\n",
    "    'min_samples_leaf': [1, 50, 100, 200]\n",
    "}\n",
    "\n",
    "score = pipeline_train_model(X_train, y_train, k=3, feat_selection_iter=10, random_search_iter=10, model=model, params_dim=params_dim)\n",
    "\n",
    "# Saving results in df_metric.\n",
    "df_metric.loc['m4_randomforest'] = ['RandomForestClassifier', score[0], score[1], score[2], score[3], score[4]]\n",
    "df_metric"
   ]
  },
  {
   "cell_type": "markdown",
   "metadata": {},
   "source": [
    "## Results"
   ]
  },
  {
   "cell_type": "code",
   "execution_count": 17,
   "metadata": {},
   "outputs": [
    {
     "data": {
      "text/html": [
       "<div>\n",
       "<style scoped>\n",
       "    .dataframe tbody tr th:only-of-type {\n",
       "        vertical-align: middle;\n",
       "    }\n",
       "\n",
       "    .dataframe tbody tr th {\n",
       "        vertical-align: top;\n",
       "    }\n",
       "\n",
       "    .dataframe thead th {\n",
       "        text-align: right;\n",
       "    }\n",
       "</style>\n",
       "<table border=\"1\" class=\"dataframe\">\n",
       "  <thead>\n",
       "    <tr style=\"text-align: right;\">\n",
       "      <th></th>\n",
       "      <th>algorithm</th>\n",
       "      <th>accuracy</th>\n",
       "      <th>recall</th>\n",
       "      <th>precision</th>\n",
       "      <th>f2score</th>\n",
       "      <th>roc_auc</th>\n",
       "    </tr>\n",
       "  </thead>\n",
       "  <tbody>\n",
       "    <tr>\n",
       "      <th>m4_randomforest</th>\n",
       "      <td>RandomForestClassifier</td>\n",
       "      <td>0.764</td>\n",
       "      <td>0.618</td>\n",
       "      <td>0.477</td>\n",
       "      <td>0.582</td>\n",
       "      <td>0.779</td>\n",
       "    </tr>\n",
       "    <tr>\n",
       "      <th>m3_decisiontree</th>\n",
       "      <td>DecisionTree</td>\n",
       "      <td>0.772</td>\n",
       "      <td>0.572</td>\n",
       "      <td>0.492</td>\n",
       "      <td>0.552</td>\n",
       "      <td>0.757</td>\n",
       "    </tr>\n",
       "    <tr>\n",
       "      <th>m2_logregression</th>\n",
       "      <td>LogisticRegression</td>\n",
       "      <td>0.750</td>\n",
       "      <td>0.616</td>\n",
       "      <td>0.453</td>\n",
       "      <td>0.574</td>\n",
       "      <td>0.749</td>\n",
       "    </tr>\n",
       "    <tr>\n",
       "      <th>m1_baseline</th>\n",
       "      <td>probability_in_sample</td>\n",
       "      <td>0.346</td>\n",
       "      <td>0.780</td>\n",
       "      <td>0.222</td>\n",
       "      <td>0.519</td>\n",
       "      <td>NaN</td>\n",
       "    </tr>\n",
       "  </tbody>\n",
       "</table>\n",
       "</div>"
      ],
      "text/plain": [
       "                               algorithm  accuracy  recall  precision  \\\n",
       "m4_randomforest   RandomForestClassifier     0.764   0.618      0.477   \n",
       "m3_decisiontree             DecisionTree     0.772   0.572      0.492   \n",
       "m2_logregression      LogisticRegression     0.750   0.616      0.453   \n",
       "m1_baseline        probability_in_sample     0.346   0.780      0.222   \n",
       "\n",
       "                  f2score  roc_auc  \n",
       "m4_randomforest     0.582    0.779  \n",
       "m3_decisiontree     0.552    0.757  \n",
       "m2_logregression    0.574    0.749  \n",
       "m1_baseline         0.519      NaN  "
      ]
     },
     "execution_count": 17,
     "metadata": {},
     "output_type": "execute_result"
    }
   ],
   "source": [
    "# Best results.\n",
    "df_metric.sort_values('roc_auc', ascending=False).round(3)"
   ]
  },
  {
   "cell_type": "markdown",
   "metadata": {},
   "source": [
    "----"
   ]
  },
  {
   "cell_type": "markdown",
   "metadata": {},
   "source": [
    "## Appendix"
   ]
  },
  {
   "cell_type": "markdown",
   "metadata": {},
   "source": [
    "### Boruta for feature selection"
   ]
  },
  {
   "cell_type": "code",
   "execution_count": 1,
   "metadata": {},
   "outputs": [],
   "source": [
    "from boruta import BorutaPy\n",
    "import numpy as np\n",
    "import pandas as pd\n",
    "from sklearn.ensemble import RandomForestRegressor"
   ]
  },
  {
   "cell_type": "code",
   "execution_count": 57,
   "metadata": {},
   "outputs": [
    {
     "name": "stdout",
     "output_type": "stream",
     "text": [
      "\n",
      "Features A and B are influentional to y, while C are not. It is expected that Boruto confirm this fact.\n"
     ]
    },
    {
     "data": {
      "text/html": [
       "<div>\n",
       "<style scoped>\n",
       "    .dataframe tbody tr th:only-of-type {\n",
       "        vertical-align: middle;\n",
       "    }\n",
       "\n",
       "    .dataframe tbody tr th {\n",
       "        vertical-align: top;\n",
       "    }\n",
       "\n",
       "    .dataframe thead th {\n",
       "        text-align: right;\n",
       "    }\n",
       "</style>\n",
       "<table border=\"1\" class=\"dataframe\">\n",
       "  <thead>\n",
       "    <tr style=\"text-align: right;\">\n",
       "      <th></th>\n",
       "      <th>feat_a_relevant</th>\n",
       "      <th>feat_b_relevant</th>\n",
       "      <th>feat_c_irrelevant</th>\n",
       "      <th>y</th>\n",
       "    </tr>\n",
       "  </thead>\n",
       "  <tbody>\n",
       "    <tr>\n",
       "      <th>0</th>\n",
       "      <td>0.147896</td>\n",
       "      <td>-2.678392</td>\n",
       "      <td>4.964442</td>\n",
       "      <td>2.832847</td>\n",
       "    </tr>\n",
       "    <tr>\n",
       "      <th>1</th>\n",
       "      <td>5.715697</td>\n",
       "      <td>-4.026181</td>\n",
       "      <td>5.624898</td>\n",
       "      <td>13.156988</td>\n",
       "    </tr>\n",
       "    <tr>\n",
       "      <th>2</th>\n",
       "      <td>-2.108079</td>\n",
       "      <td>-2.143536</td>\n",
       "      <td>-10.197006</td>\n",
       "      <td>-3.649758</td>\n",
       "    </tr>\n",
       "    <tr>\n",
       "      <th>3</th>\n",
       "      <td>8.859634</td>\n",
       "      <td>-4.175130</td>\n",
       "      <td>-3.449414</td>\n",
       "      <td>17.967550</td>\n",
       "    </tr>\n",
       "    <tr>\n",
       "      <th>4</th>\n",
       "      <td>1.394410</td>\n",
       "      <td>-1.418882</td>\n",
       "      <td>-3.751191</td>\n",
       "      <td>6.417268</td>\n",
       "    </tr>\n",
       "  </tbody>\n",
       "</table>\n",
       "</div>"
      ],
      "text/plain": [
       "   feat_a_relevant  feat_b_relevant  feat_c_irrelevant          y\n",
       "0         0.147896        -2.678392           4.964442   2.832847\n",
       "1         5.715697        -4.026181           5.624898  13.156988\n",
       "2        -2.108079        -2.143536         -10.197006  -3.649758\n",
       "3         8.859634        -4.175130          -3.449414  17.967550\n",
       "4         1.394410        -1.418882          -3.751191   6.417268"
      ]
     },
     "metadata": {},
     "output_type": "display_data"
    }
   ],
   "source": [
    "# Let's create a dummy dataframe.\n",
    "df = pd.DataFrame({\n",
    "    'feat_a_relevant': np.random.normal(2, 5, 100),\n",
    "    'feat_b_relevant': np.random.normal(-3, 1, 100),\n",
    "    'feat_c_irrelevant': np.random.normal(0, 5, 100)})\n",
    "\n",
    "df['y'] = 2 * df['feat_a_relevant'] -  df['feat_b_relevant'] / 2 + np.random.normal(0, 2, 100)\n",
    "\n",
    "print('''Features A and B are influentional to y, while C are not. It is expected that Boruto confirms this fact.''')\n",
    "\n",
    "display(df.head())"
   ]
  },
  {
   "cell_type": "code",
   "execution_count": 58,
   "metadata": {},
   "outputs": [
    {
     "data": {
      "text/html": [
       "<div>\n",
       "<style scoped>\n",
       "    .dataframe tbody tr th:only-of-type {\n",
       "        vertical-align: middle;\n",
       "    }\n",
       "\n",
       "    .dataframe tbody tr th {\n",
       "        vertical-align: top;\n",
       "    }\n",
       "\n",
       "    .dataframe thead th {\n",
       "        text-align: right;\n",
       "    }\n",
       "</style>\n",
       "<table border=\"1\" class=\"dataframe\">\n",
       "  <thead>\n",
       "    <tr style=\"text-align: right;\">\n",
       "      <th></th>\n",
       "      <th>feat_a_relevant</th>\n",
       "      <th>feat_b_relevant</th>\n",
       "      <th>feat_c_irrelevant</th>\n",
       "      <th>y</th>\n",
       "    </tr>\n",
       "  </thead>\n",
       "  <tbody>\n",
       "    <tr>\n",
       "      <th>feat_a_relevant</th>\n",
       "      <td>1.000000</td>\n",
       "      <td>-0.094358</td>\n",
       "      <td>-0.011781</td>\n",
       "      <td>0.988952</td>\n",
       "    </tr>\n",
       "    <tr>\n",
       "      <th>feat_b_relevant</th>\n",
       "      <td>-0.094358</td>\n",
       "      <td>1.000000</td>\n",
       "      <td>-0.068457</td>\n",
       "      <td>-0.118947</td>\n",
       "    </tr>\n",
       "    <tr>\n",
       "      <th>feat_c_irrelevant</th>\n",
       "      <td>-0.011781</td>\n",
       "      <td>-0.068457</td>\n",
       "      <td>1.000000</td>\n",
       "      <td>-0.019522</td>\n",
       "    </tr>\n",
       "    <tr>\n",
       "      <th>y</th>\n",
       "      <td>0.988952</td>\n",
       "      <td>-0.118947</td>\n",
       "      <td>-0.019522</td>\n",
       "      <td>1.000000</td>\n",
       "    </tr>\n",
       "  </tbody>\n",
       "</table>\n",
       "</div>"
      ],
      "text/plain": [
       "                   feat_a_relevant  feat_b_relevant  feat_c_irrelevant  \\\n",
       "feat_a_relevant           1.000000        -0.094358          -0.011781   \n",
       "feat_b_relevant          -0.094358         1.000000          -0.068457   \n",
       "feat_c_irrelevant        -0.011781        -0.068457           1.000000   \n",
       "y                         0.988952        -0.118947          -0.019522   \n",
       "\n",
       "                          y  \n",
       "feat_a_relevant    0.988952  \n",
       "feat_b_relevant   -0.118947  \n",
       "feat_c_irrelevant -0.019522  \n",
       "y                  1.000000  "
      ]
     },
     "execution_count": 58,
     "metadata": {},
     "output_type": "execute_result"
    }
   ],
   "source": [
    "df.corr()"
   ]
  },
  {
   "cell_type": "code",
   "execution_count": 77,
   "metadata": {},
   "outputs": [
    {
     "data": {
      "text/html": [
       "<style>#sk-container-id-20 {color: black;}#sk-container-id-20 pre{padding: 0;}#sk-container-id-20 div.sk-toggleable {background-color: white;}#sk-container-id-20 label.sk-toggleable__label {cursor: pointer;display: block;width: 100%;margin-bottom: 0;padding: 0.3em;box-sizing: border-box;text-align: center;}#sk-container-id-20 label.sk-toggleable__label-arrow:before {content: \"▸\";float: left;margin-right: 0.25em;color: #696969;}#sk-container-id-20 label.sk-toggleable__label-arrow:hover:before {color: black;}#sk-container-id-20 div.sk-estimator:hover label.sk-toggleable__label-arrow:before {color: black;}#sk-container-id-20 div.sk-toggleable__content {max-height: 0;max-width: 0;overflow: hidden;text-align: left;background-color: #f0f8ff;}#sk-container-id-20 div.sk-toggleable__content pre {margin: 0.2em;color: black;border-radius: 0.25em;background-color: #f0f8ff;}#sk-container-id-20 input.sk-toggleable__control:checked~div.sk-toggleable__content {max-height: 200px;max-width: 100%;overflow: auto;}#sk-container-id-20 input.sk-toggleable__control:checked~label.sk-toggleable__label-arrow:before {content: \"▾\";}#sk-container-id-20 div.sk-estimator input.sk-toggleable__control:checked~label.sk-toggleable__label {background-color: #d4ebff;}#sk-container-id-20 div.sk-label input.sk-toggleable__control:checked~label.sk-toggleable__label {background-color: #d4ebff;}#sk-container-id-20 input.sk-hidden--visually {border: 0;clip: rect(1px 1px 1px 1px);clip: rect(1px, 1px, 1px, 1px);height: 1px;margin: -1px;overflow: hidden;padding: 0;position: absolute;width: 1px;}#sk-container-id-20 div.sk-estimator {font-family: monospace;background-color: #f0f8ff;border: 1px dotted black;border-radius: 0.25em;box-sizing: border-box;margin-bottom: 0.5em;}#sk-container-id-20 div.sk-estimator:hover {background-color: #d4ebff;}#sk-container-id-20 div.sk-parallel-item::after {content: \"\";width: 100%;border-bottom: 1px solid gray;flex-grow: 1;}#sk-container-id-20 div.sk-label:hover label.sk-toggleable__label {background-color: #d4ebff;}#sk-container-id-20 div.sk-serial::before {content: \"\";position: absolute;border-left: 1px solid gray;box-sizing: border-box;top: 0;bottom: 0;left: 50%;z-index: 0;}#sk-container-id-20 div.sk-serial {display: flex;flex-direction: column;align-items: center;background-color: white;padding-right: 0.2em;padding-left: 0.2em;position: relative;}#sk-container-id-20 div.sk-item {position: relative;z-index: 1;}#sk-container-id-20 div.sk-parallel {display: flex;align-items: stretch;justify-content: center;background-color: white;position: relative;}#sk-container-id-20 div.sk-item::before, #sk-container-id-20 div.sk-parallel-item::before {content: \"\";position: absolute;border-left: 1px solid gray;box-sizing: border-box;top: 0;bottom: 0;left: 50%;z-index: -1;}#sk-container-id-20 div.sk-parallel-item {display: flex;flex-direction: column;z-index: 1;position: relative;background-color: white;}#sk-container-id-20 div.sk-parallel-item:first-child::after {align-self: flex-end;width: 50%;}#sk-container-id-20 div.sk-parallel-item:last-child::after {align-self: flex-start;width: 50%;}#sk-container-id-20 div.sk-parallel-item:only-child::after {width: 0;}#sk-container-id-20 div.sk-dashed-wrapped {border: 1px dashed gray;margin: 0 0.4em 0.5em 0.4em;box-sizing: border-box;padding-bottom: 0.4em;background-color: white;}#sk-container-id-20 div.sk-label label {font-family: monospace;font-weight: bold;display: inline-block;line-height: 1.2em;}#sk-container-id-20 div.sk-label-container {text-align: center;}#sk-container-id-20 div.sk-container {/* jupyter's `normalize.less` sets `[hidden] { display: none; }` but bootstrap.min.css set `[hidden] { display: none !important; }` so we also need the `!important` here to be able to override the default hidden behavior on the sphinx rendered scikit-learn.org. See: https://github.com/scikit-learn/scikit-learn/issues/21755 */display: inline-block !important;position: relative;}#sk-container-id-20 div.sk-text-repr-fallback {display: none;}</style><div id=\"sk-container-id-20\" class=\"sk-top-container\"><div class=\"sk-text-repr-fallback\"><pre>BorutaPy(estimator=RandomForestRegressor(max_depth=5, n_estimators=40,\n",
       "                                         random_state=RandomState(MT19937) at 0x1F220B62240),\n",
       "         n_estimators=&#x27;auto&#x27;,\n",
       "         random_state=RandomState(MT19937) at 0x1F220B62240)</pre><b>In a Jupyter environment, please rerun this cell to show the HTML representation or trust the notebook. <br />On GitHub, the HTML representation is unable to render, please try loading this page with nbviewer.org.</b></div><div class=\"sk-container\" hidden><div class=\"sk-item sk-dashed-wrapped\"><div class=\"sk-label-container\"><div class=\"sk-label sk-toggleable\"><input class=\"sk-toggleable__control sk-hidden--visually\" id=\"sk-estimator-id-56\" type=\"checkbox\" ><label for=\"sk-estimator-id-56\" class=\"sk-toggleable__label sk-toggleable__label-arrow\">BorutaPy</label><div class=\"sk-toggleable__content\"><pre>BorutaPy(estimator=RandomForestRegressor(max_depth=5, n_estimators=40,\n",
       "                                         random_state=RandomState(MT19937) at 0x1F220B62240),\n",
       "         n_estimators=&#x27;auto&#x27;,\n",
       "         random_state=RandomState(MT19937) at 0x1F220B62240)</pre></div></div></div><div class=\"sk-parallel\"><div class=\"sk-parallel-item\"><div class=\"sk-item\"><div class=\"sk-label-container\"><div class=\"sk-label sk-toggleable\"><input class=\"sk-toggleable__control sk-hidden--visually\" id=\"sk-estimator-id-57\" type=\"checkbox\" ><label for=\"sk-estimator-id-57\" class=\"sk-toggleable__label sk-toggleable__label-arrow\">estimator: RandomForestRegressor</label><div class=\"sk-toggleable__content\"><pre>RandomForestRegressor(max_depth=5, n_estimators=40,\n",
       "                      random_state=RandomState(MT19937) at 0x1F220B62240)</pre></div></div></div><div class=\"sk-serial\"><div class=\"sk-item\"><div class=\"sk-estimator sk-toggleable\"><input class=\"sk-toggleable__control sk-hidden--visually\" id=\"sk-estimator-id-58\" type=\"checkbox\" ><label for=\"sk-estimator-id-58\" class=\"sk-toggleable__label sk-toggleable__label-arrow\">RandomForestRegressor</label><div class=\"sk-toggleable__content\"><pre>RandomForestRegressor(max_depth=5, n_estimators=40,\n",
       "                      random_state=RandomState(MT19937) at 0x1F220B62240)</pre></div></div></div></div></div></div></div></div></div></div>"
      ],
      "text/plain": [
       "BorutaPy(estimator=RandomForestRegressor(max_depth=5, n_estimators=40,\n",
       "                                         random_state=RandomState(MT19937) at 0x1F220B62240),\n",
       "         n_estimators='auto',\n",
       "         random_state=RandomState(MT19937) at 0x1F220B62240)"
      ]
     },
     "execution_count": 77,
     "metadata": {},
     "output_type": "execute_result"
    }
   ],
   "source": [
    "boruta = BorutaPy(\n",
    "    estimator = RandomForestRegressor(max_depth = 5, random_state = 52, n_estimators=200),\n",
    "    n_estimators = 'auto',\n",
    "    max_iter = 100\n",
    "    )\n",
    "\n",
    "boruta.fit(np.array(df[['feat_a_relevant', 'feat_b_relevant', 'feat_c_irrelevant']]), np.array(df['y']))"
   ]
  },
  {
   "cell_type": "code",
   "execution_count": 100,
   "metadata": {},
   "outputs": [
    {
     "data": {
      "text/plain": [
       "(array([ True, False, False]), array([1, 3, 2]))"
      ]
     },
     "execution_count": 100,
     "metadata": {},
     "output_type": "execute_result"
    }
   ],
   "source": [
    "# Relevant features.\n",
    "boruta.support_, boruta.ranking_"
   ]
  },
  {
   "cell_type": "code",
   "execution_count": 94,
   "metadata": {},
   "outputs": [
    {
     "data": {
      "text/plain": [
       "array([False, False, False])"
      ]
     },
     "execution_count": 94,
     "metadata": {},
     "output_type": "execute_result"
    }
   ],
   "source": [
    "# Undecided features.\n",
    "boruta.support_weak_"
   ]
  },
  {
   "cell_type": "code",
   "execution_count": 99,
   "metadata": {},
   "outputs": [
    {
     "data": {
      "text/html": [
       "<style>#sk-container-id-23 {color: black;}#sk-container-id-23 pre{padding: 0;}#sk-container-id-23 div.sk-toggleable {background-color: white;}#sk-container-id-23 label.sk-toggleable__label {cursor: pointer;display: block;width: 100%;margin-bottom: 0;padding: 0.3em;box-sizing: border-box;text-align: center;}#sk-container-id-23 label.sk-toggleable__label-arrow:before {content: \"▸\";float: left;margin-right: 0.25em;color: #696969;}#sk-container-id-23 label.sk-toggleable__label-arrow:hover:before {color: black;}#sk-container-id-23 div.sk-estimator:hover label.sk-toggleable__label-arrow:before {color: black;}#sk-container-id-23 div.sk-toggleable__content {max-height: 0;max-width: 0;overflow: hidden;text-align: left;background-color: #f0f8ff;}#sk-container-id-23 div.sk-toggleable__content pre {margin: 0.2em;color: black;border-radius: 0.25em;background-color: #f0f8ff;}#sk-container-id-23 input.sk-toggleable__control:checked~div.sk-toggleable__content {max-height: 200px;max-width: 100%;overflow: auto;}#sk-container-id-23 input.sk-toggleable__control:checked~label.sk-toggleable__label-arrow:before {content: \"▾\";}#sk-container-id-23 div.sk-estimator input.sk-toggleable__control:checked~label.sk-toggleable__label {background-color: #d4ebff;}#sk-container-id-23 div.sk-label input.sk-toggleable__control:checked~label.sk-toggleable__label {background-color: #d4ebff;}#sk-container-id-23 input.sk-hidden--visually {border: 0;clip: rect(1px 1px 1px 1px);clip: rect(1px, 1px, 1px, 1px);height: 1px;margin: -1px;overflow: hidden;padding: 0;position: absolute;width: 1px;}#sk-container-id-23 div.sk-estimator {font-family: monospace;background-color: #f0f8ff;border: 1px dotted black;border-radius: 0.25em;box-sizing: border-box;margin-bottom: 0.5em;}#sk-container-id-23 div.sk-estimator:hover {background-color: #d4ebff;}#sk-container-id-23 div.sk-parallel-item::after {content: \"\";width: 100%;border-bottom: 1px solid gray;flex-grow: 1;}#sk-container-id-23 div.sk-label:hover label.sk-toggleable__label {background-color: #d4ebff;}#sk-container-id-23 div.sk-serial::before {content: \"\";position: absolute;border-left: 1px solid gray;box-sizing: border-box;top: 0;bottom: 0;left: 50%;z-index: 0;}#sk-container-id-23 div.sk-serial {display: flex;flex-direction: column;align-items: center;background-color: white;padding-right: 0.2em;padding-left: 0.2em;position: relative;}#sk-container-id-23 div.sk-item {position: relative;z-index: 1;}#sk-container-id-23 div.sk-parallel {display: flex;align-items: stretch;justify-content: center;background-color: white;position: relative;}#sk-container-id-23 div.sk-item::before, #sk-container-id-23 div.sk-parallel-item::before {content: \"\";position: absolute;border-left: 1px solid gray;box-sizing: border-box;top: 0;bottom: 0;left: 50%;z-index: -1;}#sk-container-id-23 div.sk-parallel-item {display: flex;flex-direction: column;z-index: 1;position: relative;background-color: white;}#sk-container-id-23 div.sk-parallel-item:first-child::after {align-self: flex-end;width: 50%;}#sk-container-id-23 div.sk-parallel-item:last-child::after {align-self: flex-start;width: 50%;}#sk-container-id-23 div.sk-parallel-item:only-child::after {width: 0;}#sk-container-id-23 div.sk-dashed-wrapped {border: 1px dashed gray;margin: 0 0.4em 0.5em 0.4em;box-sizing: border-box;padding-bottom: 0.4em;background-color: white;}#sk-container-id-23 div.sk-label label {font-family: monospace;font-weight: bold;display: inline-block;line-height: 1.2em;}#sk-container-id-23 div.sk-label-container {text-align: center;}#sk-container-id-23 div.sk-container {/* jupyter's `normalize.less` sets `[hidden] { display: none; }` but bootstrap.min.css set `[hidden] { display: none !important; }` so we also need the `!important` here to be able to override the default hidden behavior on the sphinx rendered scikit-learn.org. See: https://github.com/scikit-learn/scikit-learn/issues/21755 */display: inline-block !important;position: relative;}#sk-container-id-23 div.sk-text-repr-fallback {display: none;}</style><div id=\"sk-container-id-23\" class=\"sk-top-container\"><div class=\"sk-text-repr-fallback\"><pre>BorutaPy(estimator=RandomForestRegressor(max_depth=5, n_estimators=40,\n",
       "                                         random_state=RandomState(MT19937) at 0x1F220B62240),\n",
       "         n_estimators=&#x27;auto&#x27;,\n",
       "         random_state=RandomState(MT19937) at 0x1F220B62240)</pre><b>In a Jupyter environment, please rerun this cell to show the HTML representation or trust the notebook. <br />On GitHub, the HTML representation is unable to render, please try loading this page with nbviewer.org.</b></div><div class=\"sk-container\" hidden><div class=\"sk-item sk-dashed-wrapped\"><div class=\"sk-label-container\"><div class=\"sk-label sk-toggleable\"><input class=\"sk-toggleable__control sk-hidden--visually\" id=\"sk-estimator-id-65\" type=\"checkbox\" ><label for=\"sk-estimator-id-65\" class=\"sk-toggleable__label sk-toggleable__label-arrow\">BorutaPy</label><div class=\"sk-toggleable__content\"><pre>BorutaPy(estimator=RandomForestRegressor(max_depth=5, n_estimators=40,\n",
       "                                         random_state=RandomState(MT19937) at 0x1F220B62240),\n",
       "         n_estimators=&#x27;auto&#x27;,\n",
       "         random_state=RandomState(MT19937) at 0x1F220B62240)</pre></div></div></div><div class=\"sk-parallel\"><div class=\"sk-parallel-item\"><div class=\"sk-item\"><div class=\"sk-label-container\"><div class=\"sk-label sk-toggleable\"><input class=\"sk-toggleable__control sk-hidden--visually\" id=\"sk-estimator-id-66\" type=\"checkbox\" ><label for=\"sk-estimator-id-66\" class=\"sk-toggleable__label sk-toggleable__label-arrow\">estimator: RandomForestRegressor</label><div class=\"sk-toggleable__content\"><pre>RandomForestRegressor(max_depth=5, n_estimators=40,\n",
       "                      random_state=RandomState(MT19937) at 0x1F220B62240)</pre></div></div></div><div class=\"sk-serial\"><div class=\"sk-item\"><div class=\"sk-estimator sk-toggleable\"><input class=\"sk-toggleable__control sk-hidden--visually\" id=\"sk-estimator-id-67\" type=\"checkbox\" ><label for=\"sk-estimator-id-67\" class=\"sk-toggleable__label sk-toggleable__label-arrow\">RandomForestRegressor</label><div class=\"sk-toggleable__content\"><pre>RandomForestRegressor(max_depth=5, n_estimators=40,\n",
       "                      random_state=RandomState(MT19937) at 0x1F220B62240)</pre></div></div></div></div></div></div></div></div></div></div>"
      ],
      "text/plain": [
       "BorutaPy(estimator=RandomForestRegressor(max_depth=5, n_estimators=40,\n",
       "                                         random_state=RandomState(MT19937) at 0x1F220B62240),\n",
       "         n_estimators='auto',\n",
       "         random_state=RandomState(MT19937) at 0x1F220B62240)"
      ]
     },
     "execution_count": 99,
     "metadata": {},
     "output_type": "execute_result"
    }
   ],
   "source": [
    "# Maybe rescaling the dataset helps?\n",
    "from sklearn.preprocessing import StandardScaler\n",
    "\n",
    "scaler = StandardScaler().fit(df)\n",
    "df_scaled = scaler.transform(df)\n",
    "\n",
    "df_scaled[:,:3]\n",
    "boruta.fit(df_scaled[:,:3], df_scaled[:,3])"
   ]
  },
  {
   "cell_type": "code",
   "execution_count": 95,
   "metadata": {},
   "outputs": [
    {
     "data": {
      "text/plain": [
       "(array([ True, False, False]), array([1, 3, 2]))"
      ]
     },
     "execution_count": 95,
     "metadata": {},
     "output_type": "execute_result"
    }
   ],
   "source": [
    "# Relevant features.\n",
    "boruta.support_, boruta.ranking_"
   ]
  },
  {
   "cell_type": "code",
   "execution_count": 98,
   "metadata": {},
   "outputs": [
    {
     "name": "stdout",
     "output_type": "stream",
     "text": [
      "Rescaling did not worked.\n"
     ]
    }
   ],
   "source": [
    "print('Rescaling did not worked.')"
   ]
  },
  {
   "cell_type": "code",
   "execution_count": 91,
   "metadata": {},
   "outputs": [
    {
     "data": {
      "text/html": [
       "<style>#sk-container-id-22 {color: black;}#sk-container-id-22 pre{padding: 0;}#sk-container-id-22 div.sk-toggleable {background-color: white;}#sk-container-id-22 label.sk-toggleable__label {cursor: pointer;display: block;width: 100%;margin-bottom: 0;padding: 0.3em;box-sizing: border-box;text-align: center;}#sk-container-id-22 label.sk-toggleable__label-arrow:before {content: \"▸\";float: left;margin-right: 0.25em;color: #696969;}#sk-container-id-22 label.sk-toggleable__label-arrow:hover:before {color: black;}#sk-container-id-22 div.sk-estimator:hover label.sk-toggleable__label-arrow:before {color: black;}#sk-container-id-22 div.sk-toggleable__content {max-height: 0;max-width: 0;overflow: hidden;text-align: left;background-color: #f0f8ff;}#sk-container-id-22 div.sk-toggleable__content pre {margin: 0.2em;color: black;border-radius: 0.25em;background-color: #f0f8ff;}#sk-container-id-22 input.sk-toggleable__control:checked~div.sk-toggleable__content {max-height: 200px;max-width: 100%;overflow: auto;}#sk-container-id-22 input.sk-toggleable__control:checked~label.sk-toggleable__label-arrow:before {content: \"▾\";}#sk-container-id-22 div.sk-estimator input.sk-toggleable__control:checked~label.sk-toggleable__label {background-color: #d4ebff;}#sk-container-id-22 div.sk-label input.sk-toggleable__control:checked~label.sk-toggleable__label {background-color: #d4ebff;}#sk-container-id-22 input.sk-hidden--visually {border: 0;clip: rect(1px 1px 1px 1px);clip: rect(1px, 1px, 1px, 1px);height: 1px;margin: -1px;overflow: hidden;padding: 0;position: absolute;width: 1px;}#sk-container-id-22 div.sk-estimator {font-family: monospace;background-color: #f0f8ff;border: 1px dotted black;border-radius: 0.25em;box-sizing: border-box;margin-bottom: 0.5em;}#sk-container-id-22 div.sk-estimator:hover {background-color: #d4ebff;}#sk-container-id-22 div.sk-parallel-item::after {content: \"\";width: 100%;border-bottom: 1px solid gray;flex-grow: 1;}#sk-container-id-22 div.sk-label:hover label.sk-toggleable__label {background-color: #d4ebff;}#sk-container-id-22 div.sk-serial::before {content: \"\";position: absolute;border-left: 1px solid gray;box-sizing: border-box;top: 0;bottom: 0;left: 50%;z-index: 0;}#sk-container-id-22 div.sk-serial {display: flex;flex-direction: column;align-items: center;background-color: white;padding-right: 0.2em;padding-left: 0.2em;position: relative;}#sk-container-id-22 div.sk-item {position: relative;z-index: 1;}#sk-container-id-22 div.sk-parallel {display: flex;align-items: stretch;justify-content: center;background-color: white;position: relative;}#sk-container-id-22 div.sk-item::before, #sk-container-id-22 div.sk-parallel-item::before {content: \"\";position: absolute;border-left: 1px solid gray;box-sizing: border-box;top: 0;bottom: 0;left: 50%;z-index: -1;}#sk-container-id-22 div.sk-parallel-item {display: flex;flex-direction: column;z-index: 1;position: relative;background-color: white;}#sk-container-id-22 div.sk-parallel-item:first-child::after {align-self: flex-end;width: 50%;}#sk-container-id-22 div.sk-parallel-item:last-child::after {align-self: flex-start;width: 50%;}#sk-container-id-22 div.sk-parallel-item:only-child::after {width: 0;}#sk-container-id-22 div.sk-dashed-wrapped {border: 1px dashed gray;margin: 0 0.4em 0.5em 0.4em;box-sizing: border-box;padding-bottom: 0.4em;background-color: white;}#sk-container-id-22 div.sk-label label {font-family: monospace;font-weight: bold;display: inline-block;line-height: 1.2em;}#sk-container-id-22 div.sk-label-container {text-align: center;}#sk-container-id-22 div.sk-container {/* jupyter's `normalize.less` sets `[hidden] { display: none; }` but bootstrap.min.css set `[hidden] { display: none !important; }` so we also need the `!important` here to be able to override the default hidden behavior on the sphinx rendered scikit-learn.org. See: https://github.com/scikit-learn/scikit-learn/issues/21755 */display: inline-block !important;position: relative;}#sk-container-id-22 div.sk-text-repr-fallback {display: none;}</style><div id=\"sk-container-id-22\" class=\"sk-top-container\"><div class=\"sk-text-repr-fallback\"><pre>RFE(estimator=RandomForestRegressor(max_depth=5, n_estimators=200,\n",
       "                                    random_state=52),\n",
       "    n_features_to_select=2)</pre><b>In a Jupyter environment, please rerun this cell to show the HTML representation or trust the notebook. <br />On GitHub, the HTML representation is unable to render, please try loading this page with nbviewer.org.</b></div><div class=\"sk-container\" hidden><div class=\"sk-item sk-dashed-wrapped\"><div class=\"sk-label-container\"><div class=\"sk-label sk-toggleable\"><input class=\"sk-toggleable__control sk-hidden--visually\" id=\"sk-estimator-id-62\" type=\"checkbox\" ><label for=\"sk-estimator-id-62\" class=\"sk-toggleable__label sk-toggleable__label-arrow\">RFE</label><div class=\"sk-toggleable__content\"><pre>RFE(estimator=RandomForestRegressor(max_depth=5, n_estimators=200,\n",
       "                                    random_state=52),\n",
       "    n_features_to_select=2)</pre></div></div></div><div class=\"sk-parallel\"><div class=\"sk-parallel-item\"><div class=\"sk-item\"><div class=\"sk-label-container\"><div class=\"sk-label sk-toggleable\"><input class=\"sk-toggleable__control sk-hidden--visually\" id=\"sk-estimator-id-63\" type=\"checkbox\" ><label for=\"sk-estimator-id-63\" class=\"sk-toggleable__label sk-toggleable__label-arrow\">estimator: RandomForestRegressor</label><div class=\"sk-toggleable__content\"><pre>RandomForestRegressor(max_depth=5, n_estimators=200, random_state=52)</pre></div></div></div><div class=\"sk-serial\"><div class=\"sk-item\"><div class=\"sk-estimator sk-toggleable\"><input class=\"sk-toggleable__control sk-hidden--visually\" id=\"sk-estimator-id-64\" type=\"checkbox\" ><label for=\"sk-estimator-id-64\" class=\"sk-toggleable__label sk-toggleable__label-arrow\">RandomForestRegressor</label><div class=\"sk-toggleable__content\"><pre>RandomForestRegressor(max_depth=5, n_estimators=200, random_state=52)</pre></div></div></div></div></div></div></div></div></div></div>"
      ],
      "text/plain": [
       "RFE(estimator=RandomForestRegressor(max_depth=5, n_estimators=200,\n",
       "                                    random_state=52),\n",
       "    n_features_to_select=2)"
      ]
     },
     "execution_count": 91,
     "metadata": {},
     "output_type": "execute_result"
    }
   ],
   "source": [
    "# Comparing Boruta with Recursive Feature Elimination;\n",
    "from sklearn.feature_selection import RFE\n",
    "rfe = RFE(RandomForestRegressor(max_depth = 5, random_state = 52, n_estimators=200), n_features_to_select=2, step=1)\n",
    "rfe.fit(np.array(df[['feat_a_relevant', 'feat_b_relevant', 'feat_c_irrelevant']]), np.array(df['y']))"
   ]
  },
  {
   "cell_type": "code",
   "execution_count": 97,
   "metadata": {},
   "outputs": [
    {
     "data": {
      "text/plain": [
       "(array([ True, False,  True]), array([1, 2, 1]))"
      ]
     },
     "execution_count": 97,
     "metadata": {},
     "output_type": "execute_result"
    }
   ],
   "source": [
    "rfe.support_, rfe.ranking_"
   ]
  },
  {
   "cell_type": "code",
   "execution_count": 103,
   "metadata": {},
   "outputs": [
    {
     "name": "stdout",
     "output_type": "stream",
     "text": [
      "RFE gave the same result as Boruta. At least with Boruta setting a number of relevant features was not required.\n"
     ]
    }
   ],
   "source": [
    "print('RFE gave the same result as Boruta. At least with Boruta setting a number of relevant features was not required.')"
   ]
  }
 ],
 "metadata": {
  "kernelspec": {
   "display_name": "Python 3",
   "language": "python",
   "name": "python3"
  },
  "language_info": {
   "codemirror_mode": {
    "name": "ipython",
    "version": 3
   },
   "file_extension": ".py",
   "mimetype": "text/x-python",
   "name": "python",
   "nbconvert_exporter": "python",
   "pygments_lexer": "ipython3",
   "version": "3.11.5"
  },
  "orig_nbformat": 4
 },
 "nbformat": 4,
 "nbformat_minor": 2
}
